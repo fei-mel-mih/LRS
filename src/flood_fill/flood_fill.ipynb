{
 "cells": [
  {
   "cell_type": "code",
   "execution_count": 1,
   "metadata": {},
   "outputs": [],
   "source": [
    "from utilities.Point import Point\n",
    "from utilities.flood_fill import *\n",
    "from utilities.plot_tools import *\n",
    "from utilities.map_loader import *\n",
    "import numpy as np\n",
    "import matplotlib.pyplot as plt\n",
    "from mpl_toolkits.mplot3d import Axes3D"
   ]
  },
  {
   "cell_type": "code",
   "execution_count": 2,
   "metadata": {},
   "outputs": [
    {
     "name": "stdout",
     "output_type": "stream",
     "text": [
      "3D lenght: 10\n",
      "2D lenght: 289\n",
      "1D lenght: 366\n"
     ]
    }
   ],
   "source": [
    "goal_point = (7, 153, 264)\n",
    "start_point = (1, 50, 250)\n",
    "map = load_maps('/home/alesmelichar/projects/flood-fill/maps', 'pgm')\n",
    "grid = map.map3d"
   ]
  },
  {
   "cell_type": "code",
   "execution_count": 3,
   "metadata": {},
   "outputs": [
    {
     "name": "stdout",
     "output_type": "stream",
     "text": [
      "Path found to the start from the goal with a length of 123\n"
     ]
    }
   ],
   "source": [
    "grid2 = reverse_flood_fill_4(start_point, goal_point, grid)"
   ]
  },
  {
   "cell_type": "code",
   "execution_count": 9,
   "metadata": {},
   "outputs": [
    {
     "name": "stdout",
     "output_type": "stream",
     "text": [
      "Path found to the start from the goal with a length of 123\n"
     ]
    }
   ],
   "source": [
    "grid = reverse_flood_fill(start_point, goal_point, grid)"
   ]
  },
  {
   "cell_type": "code",
   "execution_count": 5,
   "metadata": {},
   "outputs": [],
   "source": [
    "import numpy as np\n",
    "from scipy.io import savemat\n",
    "\n",
    "# Save the array in a .mat file\n",
    "savemat('map.mat', {'my_array': np.asarray(grid, dtype=\"object\")})"
   ]
  },
  {
   "cell_type": "code",
   "execution_count": 6,
   "metadata": {},
   "outputs": [],
   "source": [
    "path = find_path(start_point, goal_point, grid)"
   ]
  },
  {
   "cell_type": "code",
   "execution_count": 7,
   "metadata": {},
   "outputs": [
    {
     "data": {
      "text/plain": [
       "[(1, 50, 250),\n",
       " (2, 51, 251),\n",
       " (3, 52, 252),\n",
       " (4, 53, 253),\n",
       " (5, 54, 254),\n",
       " (6, 55, 255),\n",
       " (7, 56, 256),\n",
       " (7, 57, 257),\n",
       " (7, 58, 258),\n",
       " (7, 59, 259),\n",
       " (7, 60, 260),\n",
       " (7, 61, 261),\n",
       " (7, 62, 262),\n",
       " (7, 63, 263),\n",
       " (7, 64, 264),\n",
       " (7, 65, 264),\n",
       " (7, 66, 264),\n",
       " (7, 67, 264),\n",
       " (7, 68, 264),\n",
       " (7, 69, 264),\n",
       " (7, 70, 264),\n",
       " (7, 71, 264),\n",
       " (7, 72, 264),\n",
       " (7, 73, 264),\n",
       " (7, 74, 264),\n",
       " (7, 75, 264),\n",
       " (7, 76, 264),\n",
       " (7, 77, 264),\n",
       " (7, 78, 264),\n",
       " (7, 79, 264),\n",
       " (7, 80, 264),\n",
       " (7, 81, 264),\n",
       " (7, 82, 264),\n",
       " (7, 83, 264),\n",
       " (7, 84, 264),\n",
       " (7, 85, 264),\n",
       " (7, 86, 264),\n",
       " (7, 87, 264),\n",
       " (7, 88, 264),\n",
       " (7, 89, 264),\n",
       " (7, 90, 264),\n",
       " (7, 91, 264),\n",
       " (7, 92, 264),\n",
       " (7, 93, 264),\n",
       " (7, 94, 264),\n",
       " (7, 95, 264),\n",
       " (7, 96, 264),\n",
       " (7, 97, 264),\n",
       " (7, 98, 264),\n",
       " (7, 99, 264),\n",
       " (7, 100, 264),\n",
       " (7, 101, 264),\n",
       " (7, 102, 264),\n",
       " (7, 103, 264),\n",
       " (7, 104, 264),\n",
       " (7, 105, 264),\n",
       " (7, 106, 264),\n",
       " (7, 107, 264),\n",
       " (7, 108, 264),\n",
       " (7, 109, 264),\n",
       " (7, 110, 264),\n",
       " (7, 111, 264),\n",
       " (7, 112, 264),\n",
       " (7, 113, 264),\n",
       " (7, 114, 264),\n",
       " (7, 115, 264),\n",
       " (7, 116, 264),\n",
       " (7, 117, 264),\n",
       " (7, 118, 264),\n",
       " (7, 119, 264),\n",
       " (7, 120, 264),\n",
       " (7, 121, 264),\n",
       " (7, 122, 264),\n",
       " (7, 123, 264),\n",
       " (7, 124, 264),\n",
       " (7, 125, 264),\n",
       " (7, 126, 264),\n",
       " (7, 127, 264),\n",
       " (7, 128, 264),\n",
       " (7, 129, 264),\n",
       " (7, 130, 264),\n",
       " (7, 131, 264),\n",
       " (7, 132, 264),\n",
       " (7, 133, 264),\n",
       " (7, 134, 264),\n",
       " (7, 135, 264),\n",
       " (7, 136, 264),\n",
       " (7, 137, 264),\n",
       " (7, 138, 264),\n",
       " (7, 139, 264),\n",
       " (7, 140, 264),\n",
       " (7, 141, 264),\n",
       " (7, 142, 264),\n",
       " (7, 143, 264),\n",
       " (7, 144, 264),\n",
       " (7, 145, 264),\n",
       " (7, 146, 264),\n",
       " (7, 147, 264),\n",
       " (7, 148, 264),\n",
       " (7, 149, 264),\n",
       " (7, 150, 264),\n",
       " (7, 151, 264),\n",
       " (7, 152, 264)]"
      ]
     },
     "execution_count": 7,
     "metadata": {},
     "output_type": "execute_result"
    }
   ],
   "source": [
    "path"
   ]
  },
  {
   "cell_type": "code",
   "execution_count": 8,
   "metadata": {},
   "outputs": [
    {
     "name": "stdout",
     "output_type": "stream",
     "text": [
      "Path found to the start from the goal with a length of 123\n"
     ]
    }
   ],
   "source": [
    "grid = reverse_flood_fill2(start_point, goal_point, grid)"
   ]
  }
 ],
 "metadata": {
  "kernelspec": {
   "display_name": "base",
   "language": "python",
   "name": "python3"
  },
  "language_info": {
   "codemirror_mode": {
    "name": "ipython",
    "version": 3
   },
   "file_extension": ".py",
   "mimetype": "text/x-python",
   "name": "python",
   "nbconvert_exporter": "python",
   "pygments_lexer": "ipython3",
   "version": "3.10.9"
  },
  "orig_nbformat": 4
 },
 "nbformat": 4,
 "nbformat_minor": 2
}
